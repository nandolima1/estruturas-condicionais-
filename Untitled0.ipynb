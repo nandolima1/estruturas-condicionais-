{
  "nbformat": 4,
  "nbformat_minor": 0,
  "metadata": {
    "colab": {
      "provenance": [],
      "authorship_tag": "ABX9TyNmpS1Vo72DPiI1M65Eu/3I",
      "include_colab_link": true
    },
    "kernelspec": {
      "name": "python3",
      "display_name": "Python 3"
    },
    "language_info": {
      "name": "python"
    }
  },
  "cells": [
    {
      "cell_type": "markdown",
      "metadata": {
        "id": "view-in-github",
        "colab_type": "text"
      },
      "source": [
        "<a href=\"https://colab.research.google.com/github/nandolima1/estruturas-condicionais-/blob/main/Untitled0.ipynb\" target=\"_parent\"><img src=\"https://colab.research.google.com/assets/colab-badge.svg\" alt=\"Open In Colab\"/></a>"
      ]
    },
    {
      "cell_type": "code",
      "source": [
        "def calcular_novo_salario(salario_atual):\n",
        "    if salario_atual < 500:\n",
        "        reajuste = 0.15\n",
        "    elif salario_atual <= 1000:\n",
        "        reajuste = 0.10\n",
        "    else:\n",
        "        reajuste = 0.05\n",
        "\n",
        "    novo_salario = salario_atual * (1 + reajuste)\n",
        "    return novo_salario\n",
        "\n",
        "salario_atual = float(input(\"Digite o salário atual do funcionário: R$ \"))\n",
        "novo_salario = calcular_novo_salario(salario_atual)\n",
        "print(f\"O novo salário reajustado é: R$ {novo_salario:.2f}\")\n"
      ],
      "metadata": {
        "colab": {
          "base_uri": "https://localhost:8080/"
        },
        "id": "fUKJSiEd1HOk",
        "outputId": "6930ab61-bd47-47fb-a4a9-33e8e1329687"
      },
      "execution_count": 3,
      "outputs": [
        {
          "output_type": "stream",
          "name": "stdout",
          "text": [
            "Digite o salário atual do funcionário: R$ 1000\n",
            "O novo salário reajustado é: R$ 1100.00\n"
          ]
        }
      ]
    },
    {
      "cell_type": "code",
      "source": [
        "while True:\n",
        "    nome = input(\"Digite seu nome: \")\n",
        "    if len(nome) <= 3:\n",
        "        print(\"Nome inválido! O nome deve ter mais de 3 caracteres.\")\n",
        "        continue\n",
        "\n",
        "    idade = int(input(\"Digite sua idade: \"))\n",
        "    if idade < 0 or idade > 150:\n",
        "        print(\"Idade inválida! A idade deve estar entre 0 e 150 anos.\")\n",
        "        continue\n",
        "\n",
        "    salario = float(input(\"Digite seu salário: R$ \"))\n",
        "    if salario < 0:\n",
        "        print(\"Salário inválido! O salário não pode ser negativo.\")\n",
        "        continue\n",
        "\n",
        "    # Se todas as informações forem válidas, sair do loop e exibir os dados\n",
        "    break\n",
        "\n",
        "# Exibir os dados finais\n",
        "print(\"\\nDados finais:\")\n",
        "print(\"Nome:\", nome)\n",
        "print(\"Idade:\", idade)\n",
        "print(\"Salário: R$\", salario)\n"
      ],
      "metadata": {
        "colab": {
          "base_uri": "https://localhost:8080/"
        },
        "id": "4ut5k2hJ1mbY",
        "outputId": "3cf7cf85-0d40-4aa6-f61e-8d286f3e9b10"
      },
      "execution_count": 4,
      "outputs": [
        {
          "output_type": "stream",
          "name": "stdout",
          "text": [
            "Digite seu nome: ana\n",
            "Nome inválido! O nome deve ter mais de 3 caracteres.\n",
            "Digite seu nome: luiz\n",
            "Digite sua idade: -5\n",
            "Idade inválida! A idade deve estar entre 0 e 150 anos.\n",
            "Digite seu nome: 60\n",
            "Nome inválido! O nome deve ter mais de 3 caracteres.\n",
            "Digite seu nome: nando\n",
            "Digite sua idade: 80\n",
            "Digite seu salário: R$ 7000\n",
            "\n",
            "Dados finais:\n",
            "Nome: nando\n",
            "Idade: 80\n",
            "Salário: R$ 7000.0\n"
          ]
        }
      ]
    },
    {
      "cell_type": "code",
      "source": [
        "while True:\n",
        "    nota = float(input(\"Digite uma nota entre zero e dez: \"))\n",
        "    if nota < 0 or nota > 10:\n",
        "        print(\"Erro: A nota deve estar entre zero e dez. Por favor, tente novamente.\")\n",
        "    else:\n",
        "        print(f\"A nota digitada foi: {nota}\")\n",
        "        break\n"
      ],
      "metadata": {
        "colab": {
          "base_uri": "https://localhost:8080/"
        },
        "id": "zyPOKLwM3iAS",
        "outputId": "d7c39e5d-0224-400e-cd99-a08d10645492"
      },
      "execution_count": 5,
      "outputs": [
        {
          "output_type": "stream",
          "name": "stdout",
          "text": [
            "Digite uma nota entre zero e dez: 11\n",
            "Erro: A nota deve estar entre zero e dez. Por favor, tente novamente.\n",
            "Digite uma nota entre zero e dez: 15\n",
            "Erro: A nota deve estar entre zero e dez. Por favor, tente novamente.\n",
            "Digite uma nota entre zero e dez: 8\n",
            "A nota digitada foi: 8.0\n"
          ]
        }
      ]
    },
    {
      "cell_type": "code",
      "source": [
        "gols_time1 = int(input(\"Digite o número de gols do primeiro time: \"))\n",
        "gols_time2 = int(input(\"Digite o número de gols do segundo time: \"))\n",
        "\n",
        "if gols_time1 == gols_time2:\n",
        "    print(\"O resultado foi um empate!\")\n",
        "elif gols_time1 > gols_time2:\n",
        "    print(\"O primeiro time venceu!\")\n",
        "else:\n",
        "    print(\"O segundo time venceu!\")\n"
      ],
      "metadata": {
        "colab": {
          "base_uri": "https://localhost:8080/"
        },
        "id": "vKEmudr47Ai0",
        "outputId": "3dfb59b4-0036-4146-b492-b83ec7ec65b2"
      },
      "execution_count": 7,
      "outputs": [
        {
          "output_type": "stream",
          "name": "stdout",
          "text": [
            "Digite o número de gols do primeiro time: 3\n",
            "Digite o número de gols do segundo time: 8\n",
            "O segundo time venceu!\n"
          ]
        }
      ]
    },
    {
      "cell_type": "code",
      "source": [
        "# Dicionário que mapeia os códigos dos itens aos seus preços\n",
        "cardapio = {\n",
        "    \"100\": 5.00,\n",
        "    \"101\": 7.00,\n",
        "    \"102\": 8.50,\n",
        "    \"103\": 6.00,\n",
        "    \"104\": 4.50\n",
        "}\n",
        "\n",
        "# Função para calcular o valor do lanche\n",
        "def calcular_valor(codigo, quantidade):\n",
        "    if codigo in cardapio:\n",
        "        preco_unitario = cardapio[codigo]\n",
        "        valor_total = preco_unitario * quantidade\n",
        "        return valor_total\n",
        "    else:\n",
        "        return None\n",
        "\n",
        "# Função para formatar o menu\n",
        "def mostrar_menu():\n",
        "    print(\"-\" * 30)\n",
        "    print(\"Código\\t\\tItem\\t\\tPreço\")\n",
        "    print(\"-\" * 30)\n",
        "    for codigo, preco in cardapio.items():\n",
        "        print(f\"{codigo}\\t\\tItem {codigo}\\t\\tR$ {preco:.2f}\")\n",
        "    print(\"-\" * 30)\n",
        "\n",
        "# Main\n",
        "mostrar_menu()\n",
        "\n",
        "while True:\n",
        "    codigo = input(\"Digite o código do item (ou '0' para sair): \")\n",
        "    if codigo == \"0\":\n",
        "        break\n",
        "\n",
        "    if codigo not in cardapio:\n",
        "        print(\"Código inválido!\")\n",
        "        continue\n",
        "\n",
        "    quantidade = int(input(\"Digite a quantidade desejada: \"))\n",
        "    valor_total = calcular_valor(codigo, quantidade)\n",
        "    if valor_total is not None:\n",
        "        print(f\"Valor a pagar: R$ {valor_total:.2f}\")\n"
      ],
      "metadata": {
        "colab": {
          "base_uri": "https://localhost:8080/"
        },
        "id": "loJNmyCj8fGs",
        "outputId": "f4d119a3-fc6a-4fcd-d616-c00a21ab65d9"
      },
      "execution_count": null,
      "outputs": [
        {
          "output_type": "stream",
          "name": "stdout",
          "text": [
            "------------------------------\n",
            "Código\t\tItem\t\tPreço\n",
            "------------------------------\n",
            "100\t\tItem 100\t\tR$ 5.00\n",
            "101\t\tItem 101\t\tR$ 7.00\n",
            "102\t\tItem 102\t\tR$ 8.50\n",
            "103\t\tItem 103\t\tR$ 6.00\n",
            "104\t\tItem 104\t\tR$ 4.50\n",
            "------------------------------\n"
          ]
        }
      ]
    },
    {
      "cell_type": "code",
      "source": [
        "# Dicionário com os códigos e preços dos itens do cardápio\n",
        "cardapio = {\n",
        "    100: {\"especificacao\": \"Cachorro quente\", \"preco\": 5.00},\n",
        "    101: {\"especificacao\": \"Hamburguer\", \"preco\": 10.00},\n",
        "    102: {\"especificacao\": \"Coxinha\", \"preco\": 4.00}\n",
        "}\n",
        "\n",
        "# Função para calcular o valor total do pedido\n",
        "def calcular_valor_pedido(codigo, quantidade):\n",
        "    if codigo in cardapio:\n",
        "        preco_unitario = cardapio[codigo][\"preco\"]\n",
        "        valor_total = preco_unitario * quantidade\n",
        "        return valor_total\n",
        "    else:\n",
        "        return None\n",
        "\n",
        "# Função para formatar o valor em reais\n",
        "def formatar_valor_reais(valor):\n",
        "    return f'R$ {valor:.2f}'\n",
        "\n",
        "# Entrada de dados: código do item e quantidade\n",
        "codigo_pedido = int(input(\"Digite o código do item pedido: \"))\n",
        "quantidade_pedido = int(input(\"Digite a quantidade desejada: \"))\n",
        "\n",
        "# Calcular o valor total do pedido\n",
        "valor_total_pedido = calcular_valor_pedido(codigo_pedido, quantidade_pedido)\n",
        "\n",
        "# Verificar se o item existe no cardápio e exibir o valor total\n",
        "if valor_total_pedido is not None:\n",
        "    print(f\"O valor a ser pago pelo lanche é: {formatar_valor_reais(valor_total_pedido)}\")\n",
        "else:\n",
        "    print(\"Item não encontrado no cardápio.\")"
      ],
      "metadata": {
        "id": "GVdAtX4I-dMF"
      },
      "execution_count": null,
      "outputs": []
    }
  ]
}